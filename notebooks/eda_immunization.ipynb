{
 "cells": [
  {
   "cell_type": "code",
   "execution_count": 3,
   "id": "adb3497c",
   "metadata": {},
   "outputs": [],
   "source": [
    "import pandas as pd\n",
    "import numpy as np\n",
    "import seaborn as sns\n",
    "import matplotlib.pyplot as plt\n"
   ]
  },
  {
   "cell_type": "code",
   "execution_count": 6,
   "id": "960ff192",
   "metadata": {},
   "outputs": [
    {
     "data": {
      "text/html": [
       "<div>\n",
       "<style scoped>\n",
       "    .dataframe tbody tr th:only-of-type {\n",
       "        vertical-align: middle;\n",
       "    }\n",
       "\n",
       "    .dataframe tbody tr th {\n",
       "        vertical-align: top;\n",
       "    }\n",
       "\n",
       "    .dataframe thead th {\n",
       "        text-align: right;\n",
       "    }\n",
       "</style>\n",
       "<table border=\"1\" class=\"dataframe\">\n",
       "  <thead>\n",
       "    <tr style=\"text-align: right;\">\n",
       "      <th></th>\n",
       "      <th>county</th>\n",
       "      <th>indicator</th>\n",
       "      <th>Unit</th>\n",
       "      <th>Date</th>\n",
       "      <th>Value</th>\n",
       "    </tr>\n",
       "  </thead>\n",
       "  <tbody>\n",
       "    <tr>\n",
       "      <th>0</th>\n",
       "      <td>Nairobi</td>\n",
       "      <td>BCG vaccination received</td>\n",
       "      <td>NaN</td>\n",
       "      <td>1989</td>\n",
       "      <td>44.4</td>\n",
       "    </tr>\n",
       "    <tr>\n",
       "      <th>1</th>\n",
       "      <td>Nairobi</td>\n",
       "      <td>BCG vaccination received</td>\n",
       "      <td>NaN</td>\n",
       "      <td>1993</td>\n",
       "      <td>100.0</td>\n",
       "    </tr>\n",
       "    <tr>\n",
       "      <th>2</th>\n",
       "      <td>Nairobi</td>\n",
       "      <td>BCG vaccination received</td>\n",
       "      <td>NaN</td>\n",
       "      <td>1998</td>\n",
       "      <td>97.7</td>\n",
       "    </tr>\n",
       "    <tr>\n",
       "      <th>3</th>\n",
       "      <td>Nairobi</td>\n",
       "      <td>BCG vaccination received</td>\n",
       "      <td>NaN</td>\n",
       "      <td>2003</td>\n",
       "      <td>97.6</td>\n",
       "    </tr>\n",
       "    <tr>\n",
       "      <th>4</th>\n",
       "      <td>Nairobi</td>\n",
       "      <td>BCG vaccination received</td>\n",
       "      <td>NaN</td>\n",
       "      <td>2008</td>\n",
       "      <td>93.8</td>\n",
       "    </tr>\n",
       "  </tbody>\n",
       "</table>\n",
       "</div>"
      ],
      "text/plain": [
       "    county                 indicator  Unit  Date  Value\n",
       "0  Nairobi  BCG vaccination received   NaN  1989   44.4\n",
       "1  Nairobi  BCG vaccination received   NaN  1993  100.0\n",
       "2  Nairobi  BCG vaccination received   NaN  1998   97.7\n",
       "3  Nairobi  BCG vaccination received   NaN  2003   97.6\n",
       "4  Nairobi  BCG vaccination received   NaN  2008   93.8"
      ]
     },
     "execution_count": 6,
     "metadata": {},
     "output_type": "execute_result"
    }
   ],
   "source": [
    "data = pd.read_csv('../Data/immunization_kenya_2022.csv')\n",
    "data.head()"
   ]
  },
  {
   "cell_type": "code",
   "execution_count": 7,
   "id": "c658f194",
   "metadata": {},
   "outputs": [
    {
     "data": {
      "text/plain": [
       "Index(['county', 'indicator', 'Unit', 'Date', 'Value'], dtype='object')"
      ]
     },
     "execution_count": 7,
     "metadata": {},
     "output_type": "execute_result"
    }
   ],
   "source": [
    "data.columns"
   ]
  },
  {
   "cell_type": "code",
   "execution_count": 8,
   "id": "cc53119e",
   "metadata": {},
   "outputs": [
    {
     "data": {
      "text/html": [
       "<div>\n",
       "<style scoped>\n",
       "    .dataframe tbody tr th:only-of-type {\n",
       "        vertical-align: middle;\n",
       "    }\n",
       "\n",
       "    .dataframe tbody tr th {\n",
       "        vertical-align: top;\n",
       "    }\n",
       "\n",
       "    .dataframe thead th {\n",
       "        text-align: right;\n",
       "    }\n",
       "</style>\n",
       "<table border=\"1\" class=\"dataframe\">\n",
       "  <thead>\n",
       "    <tr style=\"text-align: right;\">\n",
       "      <th></th>\n",
       "      <th>Unit</th>\n",
       "      <th>Date</th>\n",
       "      <th>Value</th>\n",
       "    </tr>\n",
       "  </thead>\n",
       "  <tbody>\n",
       "    <tr>\n",
       "      <th>count</th>\n",
       "      <td>0.0</td>\n",
       "      <td>1567.000000</td>\n",
       "      <td>1567.000000</td>\n",
       "    </tr>\n",
       "    <tr>\n",
       "      <th>mean</th>\n",
       "      <td>NaN</td>\n",
       "      <td>2017.932993</td>\n",
       "      <td>82.559349</td>\n",
       "    </tr>\n",
       "    <tr>\n",
       "      <th>std</th>\n",
       "      <td>NaN</td>\n",
       "      <td>5.710891</td>\n",
       "      <td>29.656624</td>\n",
       "    </tr>\n",
       "    <tr>\n",
       "      <th>min</th>\n",
       "      <td>NaN</td>\n",
       "      <td>1989.000000</td>\n",
       "      <td>0.000000</td>\n",
       "    </tr>\n",
       "    <tr>\n",
       "      <th>25%</th>\n",
       "      <td>NaN</td>\n",
       "      <td>2014.000000</td>\n",
       "      <td>78.650000</td>\n",
       "    </tr>\n",
       "    <tr>\n",
       "      <th>50%</th>\n",
       "      <td>NaN</td>\n",
       "      <td>2022.000000</td>\n",
       "      <td>92.900000</td>\n",
       "    </tr>\n",
       "    <tr>\n",
       "      <th>75%</th>\n",
       "      <td>NaN</td>\n",
       "      <td>2022.000000</td>\n",
       "      <td>97.800000</td>\n",
       "    </tr>\n",
       "    <tr>\n",
       "      <th>max</th>\n",
       "      <td>NaN</td>\n",
       "      <td>2022.000000</td>\n",
       "      <td>417.000000</td>\n",
       "    </tr>\n",
       "  </tbody>\n",
       "</table>\n",
       "</div>"
      ],
      "text/plain": [
       "       Unit         Date        Value\n",
       "count   0.0  1567.000000  1567.000000\n",
       "mean    NaN  2017.932993    82.559349\n",
       "std     NaN     5.710891    29.656624\n",
       "min     NaN  1989.000000     0.000000\n",
       "25%     NaN  2014.000000    78.650000\n",
       "50%     NaN  2022.000000    92.900000\n",
       "75%     NaN  2022.000000    97.800000\n",
       "max     NaN  2022.000000   417.000000"
      ]
     },
     "execution_count": 8,
     "metadata": {},
     "output_type": "execute_result"
    }
   ],
   "source": [
    "data.describe()"
   ]
  },
  {
   "cell_type": "code",
   "execution_count": 9,
   "id": "9c9dcb06",
   "metadata": {},
   "outputs": [
    {
     "data": {
      "text/plain": [
       "<bound method DataFrame.info of        county                                          indicator  Unit  Date  \\\n",
       "0     Nairobi                           BCG vaccination received   NaN  1989   \n",
       "1     Nairobi                           BCG vaccination received   NaN  1993   \n",
       "2     Nairobi                           BCG vaccination received   NaN  1998   \n",
       "3     Nairobi                           BCG vaccination received   NaN  2003   \n",
       "4     Nairobi                           BCG vaccination received   NaN  2008   \n",
       "...       ...                                                ...   ...   ...   \n",
       "1562   Vihiga                   Hepatitis 2 vaccination received   NaN  2022   \n",
       "1563   Vihiga                   Hepatitis 3 vaccination received   NaN  2022   \n",
       "1564   Vihiga  Haemophilus influenza type b 1 vaccination rec...   NaN  2022   \n",
       "1565   Vihiga  Haemophilus influenza type b 2 vaccination rec...   NaN  2022   \n",
       "1566   Vihiga  Haemophilus influenza type b 3 vaccination rec...   NaN  2022   \n",
       "\n",
       "      Value  \n",
       "0      44.4  \n",
       "1     100.0  \n",
       "2      97.7  \n",
       "3      97.6  \n",
       "4      93.8  \n",
       "...     ...  \n",
       "1562  100.0  \n",
       "1563   95.9  \n",
       "1564  100.0  \n",
       "1565  100.0  \n",
       "1566   95.9  \n",
       "\n",
       "[1567 rows x 5 columns]>"
      ]
     },
     "execution_count": 9,
     "metadata": {},
     "output_type": "execute_result"
    }
   ],
   "source": [
    "data.info"
   ]
  },
  {
   "cell_type": "code",
   "execution_count": null,
   "id": "f1b1f35e",
   "metadata": {},
   "outputs": [],
   "source": []
  }
 ],
 "metadata": {
  "kernelspec": {
   "display_name": "env",
   "language": "python",
   "name": "python3"
  },
  "language_info": {
   "codemirror_mode": {
    "name": "ipython",
    "version": 3
   },
   "file_extension": ".py",
   "mimetype": "text/x-python",
   "name": "python",
   "nbconvert_exporter": "python",
   "pygments_lexer": "ipython3",
   "version": "3.11.13"
  }
 },
 "nbformat": 4,
 "nbformat_minor": 5
}
